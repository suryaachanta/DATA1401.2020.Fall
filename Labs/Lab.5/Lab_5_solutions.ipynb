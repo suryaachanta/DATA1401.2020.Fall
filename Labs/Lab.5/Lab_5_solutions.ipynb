{
  "nbformat": 4,
  "nbformat_minor": 0,
  "metadata": {
    "kernelspec": {
      "display_name": "Python 3",
      "language": "python",
      "name": "python3"
    },
    "language_info": {
      "codemirror_mode": {
        "name": "ipython",
        "version": 3
      },
      "file_extension": ".py",
      "mimetype": "text/x-python",
      "name": "python",
      "nbconvert_exporter": "python",
      "pygments_lexer": "ipython3",
      "version": "3.8.1"
    },
    "colab": {
      "name": "Copy of Lab-5.ipynb",
      "provenance": []
    }
  },
  "cells": [
    {
      "cell_type": "markdown",
      "metadata": {
        "id": "eLcGWVtZrImC"
      },
      "source": [
        "# Lab 5- Object Oriented Programming\n",
        "\n",
        "[![Open In Colab](https://colab.research.google.com/assets/colab-badge.svg)](https://colab.research.google.com/github//afarbin/DATA1401-Spring-2020/blob/master/Labs/Lab-5/Lab-5.ipynb)\n",
        "\n",
        "For all of the exercises below, make sure you provide tests of your solutions.\n"
      ]
    },
    {
      "cell_type": "markdown",
      "metadata": {
        "id": "KmfkxoOFrImD"
      },
      "source": [
        "1. Write a \"counter\" class that can be incremented up to a specified maximum value, will print an error if an attempt is made to increment beyond that value, and allows reseting the counter. "
      ]
    },
    {
      "cell_type": "code",
      "metadata": {
        "id": "ytUMEPVyrImD"
      },
      "source": [
        "class counter:\n",
        "    def __init__(self,max_val):\n",
        "        self.max_val=max_val\n",
        "        self.cur_val=1\n",
        "        \n",
        "    def increment(self):\n",
        "        if self.cur_val>self.max_val:\n",
        "            print(\"Max value reached.\")\n",
        "        else:\n",
        "            self.cur_val+=1\n",
        "            \n",
        "    def reset(self):\n",
        "        self.cur_val=1\n",
        "        "
      ],
      "execution_count": 8,
      "outputs": []
    },
    {
      "cell_type": "code",
      "metadata": {
        "id": "E6Ka1ImArImI"
      },
      "source": [
        "my_counter=counter(3)"
      ],
      "execution_count": 9,
      "outputs": []
    },
    {
      "cell_type": "code",
      "metadata": {
        "id": "ZkAfr2-NrImM",
        "outputId": "1ec7faa7-28f5-4e73-b678-4520e706c365",
        "colab": {
          "base_uri": "https://localhost:8080/"
        }
      },
      "source": [
        "my_counter.increment()\n",
        "my_counter.increment()\n",
        "my_counter.increment()\n",
        "my_counter.increment()\n",
        "my_counter.increment()"
      ],
      "execution_count": 10,
      "outputs": [
        {
          "output_type": "stream",
          "text": [
            "Max value reached.\n",
            "Max value reached.\n"
          ],
          "name": "stdout"
        }
      ]
    },
    {
      "cell_type": "code",
      "metadata": {
        "id": "O_I07UkBrImS"
      },
      "source": [
        "my_counter.cur_val=100"
      ],
      "execution_count": 11,
      "outputs": []
    },
    {
      "cell_type": "markdown",
      "metadata": {
        "id": "y2xvDabOrImU"
      },
      "source": [
        "2. Copy and paste your solution to question 1 and modify it so that all the data held by the counter is private. Implement functions to check the value of the counter, check the maximum value, and check if the counter is at the maximum."
      ]
    },
    {
      "cell_type": "code",
      "metadata": {
        "id": "123E6ALGrImV"
      },
      "source": [
        "class counter:\n",
        "    def __init__(self,max_val):\n",
        "        self.__max_val=max_val\n",
        "        self.__cur_val=1\n",
        "        \n",
        "    def increment(self):\n",
        "        if self.__cur_val>self.__max_val:\n",
        "            print(\"Max value reached.\")\n",
        "        else:\n",
        "            self.__cur_val+=1\n",
        "            \n",
        "    def reset(self):\n",
        "        self.__cur_val=1\n",
        "        \n",
        "    def cur_val(self):\n",
        "        return self.__cur_val\n",
        "\n",
        "    def max_val(self):\n",
        "        return self.__max_val\n",
        "\n"
      ],
      "execution_count": 12,
      "outputs": []
    },
    {
      "cell_type": "code",
      "metadata": {
        "id": "hthVS0-srImY"
      },
      "source": [
        "my_counter=counter(3)"
      ],
      "execution_count": 13,
      "outputs": []
    },
    {
      "cell_type": "code",
      "metadata": {
        "id": "J36zIiDvrImb",
        "outputId": "92ae2a03-e38f-434e-ed6a-ff3271c4c704",
        "colab": {
          "base_uri": "https://localhost:8080/"
        }
      },
      "source": [
        "my_counter.cur_val()"
      ],
      "execution_count": 14,
      "outputs": [
        {
          "output_type": "execute_result",
          "data": {
            "text/plain": [
              "1"
            ]
          },
          "metadata": {
            "tags": []
          },
          "execution_count": 14
        }
      ]
    },
    {
      "cell_type": "markdown",
      "metadata": {
        "id": "qeVuV1jQrImf"
      },
      "source": [
        "3. Implement a class to represent a rectangle, holding the length, width, and $x$ and $y$ coordinates of a corner of the object. Implement functions that compute the area and parameter of the rectangle. Make all data members private and privide accessors to retrieve values of data members. "
      ]
    },
    {
      "cell_type": "code",
      "metadata": {
        "id": "uMiXSeBZrImg",
        "outputId": "2dccd198-b63d-44dd-f6d2-b8e2ceb25c9f",
        "colab": {
          "base_uri": "https://localhost:8080/"
        }
      },
      "source": [
        "class rectangle:\n",
        "    def __init__(self,width,length,x,y):\n",
        "        self.__width=width\n",
        "        self.__length=length\n",
        "        self.__x=x\n",
        "        self.__y=y\n",
        "        \n",
        "    def area(self):\n",
        "        return self.__width*self.__length\n",
        "    \n",
        "    def perimeter(self):\n",
        "        return 2*(self.__width+self.__length)\n",
        "    \n",
        "    def x(self):\n",
        "        return self.__x\n",
        "    \n",
        "    def width(self):\n",
        "      return self.__width \n",
        "\n",
        "    def y(self):\n",
        "      return self.__y\n",
        "    \n",
        "    def length(Self):\n",
        "      return self.__length\n",
        "\n",
        "re = rectangle(2, 1, 0,0)\n",
        "print(re.area())\n",
        "print(re.perimeter())\n",
        "    \n",
        "\n",
        "\n",
        "        "
      ],
      "execution_count": 15,
      "outputs": [
        {
          "output_type": "stream",
          "text": [
            "2\n",
            "6\n"
          ],
          "name": "stdout"
        }
      ]
    },
    {
      "cell_type": "markdown",
      "metadata": {
        "id": "HfBRZzyPrImj"
      },
      "source": [
        "4. Implement a class to represent a circle, holding the radius and $x$ and $y$ coordinates of center of the object. Implement functions that compute the area and parameter of the rectangle. Make all data members private and privide accessors to retrieve values of data members. "
      ]
    },
    {
      "cell_type": "code",
      "metadata": {
        "id": "grzClOjmzM3x",
        "outputId": "9eaed63d-cf8b-4a92-d114-ee624ab08ddd",
        "colab": {
          "base_uri": "https://localhost:8080/"
        }
      },
      "source": [
        "from math import *\n",
        "\n",
        "class Circle:\n",
        "    def __init__(self,radius,x,y):\n",
        "        self.__radius=radius\n",
        "        self.__x=x\n",
        "        self.__y=y\n",
        "        \n",
        "    def area(self):\n",
        "        return pi*pow(self.__radius, 2)\n",
        "    \n",
        "    def perimeter(self):\n",
        "        return 2*pi*self.__radius\n",
        "\n",
        "    def radius(self):\n",
        "      return self.__radius \n",
        "    \n",
        "    def x(self):\n",
        "        return self.__x\n",
        "\n",
        "    def y(self):\n",
        "      return self.__y\n",
        "    \n",
        "    def length(Self):\n",
        "      return self.__length\n",
        "\n",
        "c = Circle(10, 0, 0)\n",
        "print(c.area())\n",
        "print(c.perimeter())\n",
        "    \n"
      ],
      "execution_count": 16,
      "outputs": [
        {
          "output_type": "stream",
          "text": [
            "314.1592653589793\n",
            "62.83185307179586\n"
          ],
          "name": "stdout"
        }
      ]
    },
    {
      "cell_type": "markdown",
      "metadata": {
        "id": "nB7XmAAgrImj"
      },
      "source": [
        "5. Implement a common base class for the classes implemented in 3 and 4 above which implements all common methods as dummy functions. Re-implement those classes to inherit from the base class and overload the functions accordingly. "
      ]
    },
    {
      "cell_type": "code",
      "metadata": {
        "id": "v8oatuAZzNxt",
        "outputId": "b5d24800-afb4-4e9e-a6d0-7174f4684300",
        "colab": {
          "base_uri": "https://localhost:8080/"
        }
      },
      "source": [
        "from math import *\n",
        "\n",
        "class Geo:\n",
        "    def __init__(self, x, y, radius_width, length=None):\n",
        "        self.__radius = radius_width\n",
        "        self.__length = length\n",
        "        self.__x = x\n",
        "        self.__y = y\n",
        "\n",
        "    def radius(self):\n",
        "        return self.__radius\n",
        "\n",
        "    def x(self):\n",
        "        return self.__x\n",
        "\n",
        "    def y(self):\n",
        "        return self.__y\n",
        "\n",
        "    def length(self):\n",
        "        return self.__length\n",
        "\n",
        "class Rectangle(Geo):\n",
        "\n",
        "    def area(self):\n",
        "        return self.radius() * self.length()\n",
        "\n",
        "    def perimeter(self):\n",
        "        return 2 * (self.radius() + self.length())\n",
        "\n",
        "class Circle(Geo):\n",
        "\n",
        "    def area(self):\n",
        "        return pi * pow(self.radius(), 2)\n",
        "\n",
        "    def perimeter(self):\n",
        "        return 2 * pi * self.radius()\n",
        "\n",
        "c = Circle(10, 0, 0)\n",
        "print(c.area())\n",
        "print(c.perimeter())\n",
        "\n",
        "r = Rectangle(0, 0, 5, 10)\n",
        "print(r.area())\n",
        "print(r.perimeter())\n"
      ],
      "execution_count": 25,
      "outputs": [
        {
          "output_type": "stream",
          "text": [
            "0.0\n",
            "0.0\n",
            "50\n",
            "30\n"
          ],
          "name": "stdout"
        }
      ]
    },
    {
      "cell_type": "markdown",
      "metadata": {
        "id": "kqSWGAnQrImk"
      },
      "source": [
        "6. Implement an analogous triangle class."
      ]
    },
    {
      "cell_type": "code",
      "metadata": {
        "id": "y3K6fKbrN_nk",
        "outputId": "174455c4-e0b8-450b-c4be-fe919f18c155",
        "colab": {
          "base_uri": "https://localhost:8080/"
        }
      },
      "source": [
        "from math import *\n",
        "\n",
        "class Triangle:\n",
        "  def __init__(self, x, y, base, height):\n",
        "    self.__x = x\n",
        "    self.__y = y\n",
        "    self.__base = base\n",
        "    self.__height = height\n",
        "\n",
        "  def x(self):\n",
        "    return self.__x\n",
        "\n",
        "  def y(self):\n",
        "    return self.__y\n",
        "  \n",
        "  def base(self):\n",
        "    return self.__base\n",
        "\n",
        "  def height(self):\n",
        "    return self.__height\n",
        "  \n",
        "  def area(self):\n",
        "    return 0.5 * self.base() * self.height() \n",
        "\n",
        "  def perimeter(self):\n",
        "    return self.base() + 2 * sqrt(self.height() ** 2 + (self.base() * 0.5) ** 2)\n",
        "\n",
        "tr = Triangle(0, 0, 10, 10)\n",
        "print(tr.area())\n",
        "print(tr.perimeter())\n",
        "    "
      ],
      "execution_count": 32,
      "outputs": [
        {
          "output_type": "stream",
          "text": [
            "50.0\n",
            "32.3606797749979\n"
          ],
          "name": "stdout"
        }
      ]
    },
    {
      "cell_type": "markdown",
      "metadata": {
        "id": "VCV9s9QsrImk"
      },
      "source": [
        "7. Add a function to the object classes that test if a given set of $x$ and $y$ coordinates are inside of the object."
      ]
    },
    {
      "cell_type": "code",
      "metadata": {
        "id": "OOjPJ9oXTMKN",
        "outputId": "28c6cad5-1a27-4439-fcee-0e5b41427bff",
        "colab": {
          "base_uri": "https://localhost:8080/"
        }
      },
      "source": [
        "from math import *\n",
        "import numpy as np\n",
        "\n",
        "class Geo:\n",
        "    def __init__(self, x, y, width=None, length=None, radius=None, base=None, height=None):\n",
        "        self.__width = width\n",
        "        self.__length = length\n",
        "        self.__radius = radius\n",
        "        self.__base = base\n",
        "        self.__height = height\n",
        "        self.__x = x\n",
        "        self.__y = y\n",
        "\n",
        "    def radius(self):\n",
        "        return self.__radius\n",
        "\n",
        "    def width(self):\n",
        "        return self.__width\n",
        "\n",
        "    def x(self):\n",
        "        return self.__x\n",
        "\n",
        "    def y(self):\n",
        "        return self.__y\n",
        "\n",
        "    def length(self):\n",
        "        return self.__length\n",
        "\n",
        "    def base(self):\n",
        "        return self.__base\n",
        "\n",
        "    def height(self):\n",
        "        return self.__height\n",
        "\n",
        "\n",
        "class Rectangle(Geo):\n",
        "\n",
        "    def area(self):\n",
        "        return self.radius() * self.length()\n",
        "\n",
        "    def perimeter(self):\n",
        "        return 2 * (self.radius() + self.length())\n",
        "\n",
        "    def check_xy(self, x, y):\n",
        "        if self.x() < x < self.x() + self.length():\n",
        "            if self.y() < y < self.y() + self.width():\n",
        "                return True\n",
        "        return False\n",
        "\n",
        "    def gen_points(self):\n",
        "        points = []\n",
        "        x = np.linspace(self.x(), self.x() + self.length(), 8)\n",
        "        for i in x:\n",
        "            t = (i, self.y())\n",
        "            points.append(t)\n",
        "\n",
        "        x = np.linspace(self.y(), self.y() + self.width(), 8)\n",
        "        for i in x:\n",
        "            t = (self.y() + self.length(), i)\n",
        "            points.append(t)\n",
        "\n",
        "        return points\n",
        "\n",
        "class Circle(Geo):\n",
        "\n",
        "    def area(self):\n",
        "        return pi * pow(self.radius(), 2)\n",
        "\n",
        "    def perimeter(self):\n",
        "        return 2 * pi * self.radius()\n",
        "\n",
        "    def check_xy(self, x, y):\n",
        "        d = sqrt((x - self.x()) * 2 + (y - self.y()) * 2)\n",
        "        if d < self.radius():\n",
        "            return True\n",
        "        return False\n",
        "\n",
        "class Triangle(Geo):\n",
        "\n",
        "    def area(self):\n",
        "        return 0.5 * self.base() * self.height()\n",
        "\n",
        "    def perimeter(self):\n",
        "        return self.base() + 2 * sqrt(self.height() ** 2 + (self.base() * 0.5) ** 2)\n",
        "\n",
        "    def vertices(self):\n",
        "        v = ((self.x(), self.y()), (self.x() + self.base(), self.y()),\n",
        "             (self.x() + self.base() / 2, self.y() + self.height()))\n",
        "        return v\n",
        "\n",
        "    def check_xy(self, x, y):\n",
        "        for v in self.vertices():\n",
        "            if distance(x, y, v[0], v[1]) > sqrt((self.height()) * 2 + (self.base() / 2) * 2):\n",
        "                return False\n",
        "        return True\n",
        "\n",
        "\n",
        "r = Rectangle(0, 0, length=10, width=5)\n",
        "print(r.check_xy(0, 0))\n"
      ],
      "execution_count": 51,
      "outputs": [
        {
          "output_type": "stream",
          "text": [
            "False\n"
          ],
          "name": "stdout"
        }
      ]
    },
    {
      "cell_type": "markdown",
      "metadata": {
        "id": "nfHmRA9rrImk"
      },
      "source": [
        "8. Add a function to the object classes that return a list of up to 16 pairs of  $x$ and $y$ points on the parameter of the object.\n",
        "\n"
      ]
    },
    {
      "cell_type": "code",
      "metadata": {
        "id": "-qwjbmXFTavW",
        "outputId": "296a3721-cc93-4161-e25f-93709d60707e",
        "colab": {
          "base_uri": "https://localhost:8080/"
        }
      },
      "source": [
        "from math import *\n",
        "import numpy as np\n",
        "\n",
        "\n",
        "class Geo:\n",
        "    def __init__(self, x, y, width=None, length=None, radius=None, base=None, height=None):\n",
        "        self.__width = width\n",
        "        self.__length = length\n",
        "        self.__radius = radius\n",
        "        self.__base = base\n",
        "        self.__height = height\n",
        "        self.__x = x\n",
        "        self.__y = y\n",
        "\n",
        "    def radius(self):\n",
        "        return self.__radius\n",
        "\n",
        "    def width(self):\n",
        "        return self.__width\n",
        "\n",
        "    def x(self):\n",
        "        return self.__x\n",
        "\n",
        "    def y(self):\n",
        "        return self.__y\n",
        "\n",
        "    def length(self):\n",
        "        return self.__length\n",
        "\n",
        "    def base(self):\n",
        "        return self.__base\n",
        "\n",
        "    def height(self):\n",
        "        return self.__height\n",
        "\n",
        "    def distance(self, x1, y1, x2, y2):\n",
        "      return sqrt((x1 - x2) ** 2 - (y1 - y2) ** 2)\n",
        "\n",
        "\n",
        "class Rectangle(Geo):\n",
        "\n",
        "    def area(self):\n",
        "        return self.radius() * self.length()\n",
        "\n",
        "    def perimeter(self):\n",
        "        return 2 * (self.radius() + self.length())\n",
        "\n",
        "    def check_xy(self, x, y):\n",
        "        if self.x() < x < self.x() + self.length():\n",
        "            if self.y() < y < self.y() + self.width():\n",
        "                return True\n",
        "        return False\n",
        "\n",
        "    def gen_points(self):\n",
        "        points = []\n",
        "        x = np.linspace(self.x(), self.x() + self.length(), 8)\n",
        "        for i in x:\n",
        "            t = (i, self.y())\n",
        "            points.append(t)\n",
        "\n",
        "        x = np.linspace(self.y(), self.y() + self.width(), 8)\n",
        "        for i in x:\n",
        "            t = (self.y() + self.length(), i)\n",
        "            points.append(t)\n",
        "\n",
        "        return points\n",
        "\n",
        "\n",
        "class Circle(Geo):\n",
        "\n",
        "    def area(self):\n",
        "        return pi * pow(self.radius(), 2)\n",
        "\n",
        "    def perimeter(self):\n",
        "        return 2 * pi * self.radius()\n",
        "\n",
        "    def check_xy(self, x, y):\n",
        "        d = sqrt((x - self.x()) * 2 + (y - self.y()) * 2)\n",
        "        if d < self.radius():\n",
        "            return True\n",
        "        return False\n",
        "\n",
        "    def gen_points(self):\n",
        "        xval = np.linspace(self.x() - self.radius(), self.x() + self.radius(), 9)\n",
        "        points = []\n",
        "        for i in xval:\n",
        "            c = sqrt(self.radius() * 2 - i * 2)\n",
        "            t1, t2 = (i, c), (i, -c)\n",
        "            if t1 != t2:\n",
        "                points.append(t1)\n",
        "                points.append(t2)\n",
        "        return points\n",
        "\n",
        "\n",
        "class Triangle(Geo):\n",
        "\n",
        "    def area(self):\n",
        "        return 0.5 * self.base() * self.height()\n",
        "\n",
        "    def perimeter(self):\n",
        "        return self.base() + 2 * sqrt(self.height() * 2 + (self.base() * 0.5) * 2)\n",
        "\n",
        "    def vertices(self):\n",
        "        v = ((self.x(), self.y()), (self.x() + self.base(), self.y()),\n",
        "             (self.x() + self.base() / 2, self.y() + self.height()))\n",
        "        return v\n",
        "\n",
        "    def check_xy(self, x, y):\n",
        "        for v in self.vertices():\n",
        "            if distance(x, y, v[0], v[1]) > sqrt((self.height()) * 2 + (self.base() / 2) * 2):\n",
        "                return False\n",
        "        return True\n",
        "\n",
        "\n",
        "r = Rectangle(0, 0, length=10, width=5)\n",
        "print(r.gen_points())\n",
        "print(len(r.gen_points()))\n",
        "\n",
        "c = Circle(0, 0, radius=5)\n",
        "print(c.gen_points())\n",
        "print(len(c.gen_points()))"
      ],
      "execution_count": 50,
      "outputs": [
        {
          "output_type": "stream",
          "text": [
            "[(0.0, 0), (1.4285714285714286, 0), (2.857142857142857, 0), (4.285714285714286, 0), (5.714285714285714, 0), (7.142857142857143, 0), (8.571428571428571, 0), (10.0, 0), (10, 0.0), (10, 0.7142857142857143), (10, 1.4285714285714286), (10, 2.142857142857143), (10, 2.857142857142857), (10, 3.5714285714285716), (10, 4.285714285714286), (10, 5.0)]\n",
            "16\n",
            "[(-5.0, 4.47213595499958), (-5.0, -4.47213595499958), (-3.75, 4.183300132670378), (-3.75, -4.183300132670378), (-2.5, 3.872983346207417), (-2.5, -3.872983346207417), (-1.25, 3.5355339059327378), (-1.25, -3.5355339059327378), (0.0, 3.1622776601683795), (0.0, -3.1622776601683795), (1.25, 2.7386127875258306), (1.25, -2.7386127875258306), (2.5, 2.23606797749979), (2.5, -2.23606797749979), (3.75, 1.5811388300841898), (3.75, -1.5811388300841898)]\n",
            "16\n"
          ],
          "name": "stdout"
        }
      ]
    },
    {
      "cell_type": "markdown",
      "metadata": {
        "id": "u-uuqesmrIml"
      },
      "source": [
        "9. Add a function in the base class of the object classes that returns true/false testing that the object overlaps with another object."
      ]
    },
    {
      "cell_type": "code",
      "metadata": {
        "id": "NzuI9JfeVlwQ",
        "outputId": "c5d26f8b-d52d-40ec-c18e-8b706b007fc1",
        "colab": {
          "base_uri": "https://localhost:8080/"
        }
      },
      "source": [
        "from math import *\n",
        "import numpy as np\n",
        "\n",
        "class Geo:\n",
        "    def __init__(self, x, y, width=None, length=None, radius=None, base=None, height=None):\n",
        "        self.__width = width\n",
        "        self.__length = length\n",
        "        self.__radius = radius\n",
        "        self.__base = base\n",
        "        self.__height = height\n",
        "        self.__x = x\n",
        "        self.__y = y\n",
        "\n",
        "    def radius(self):\n",
        "        return self.__radius\n",
        "\n",
        "    def width(self):\n",
        "        return self.__width\n",
        "\n",
        "    def x(self):\n",
        "        return self.__x\n",
        "\n",
        "    def y(self):\n",
        "        return self.__y\n",
        "\n",
        "    def length(self):\n",
        "        return self.__length\n",
        "\n",
        "    def base(self):\n",
        "        return self.__base\n",
        "\n",
        "    def height(self):\n",
        "        return self.__height\n",
        "\n",
        "    def distance(x1, y1, x2, y2):\n",
        "        return sqrt((x1 - x2) * 2 + (y1 - y2) * 2)\n",
        "\n",
        "class Rectangle(Geo):\n",
        "\n",
        "    def area(self):\n",
        "        return self.radius() * self.length()\n",
        "\n",
        "    def perimeter(self):\n",
        "        return 2 * (self.radius() + self.length())\n",
        "\n",
        "    def vertices(self):\n",
        "        v = ((self.x(), self.y()), (self.x() + self.length(), self.y())\n",
        "             , (self.x(), self.y() + self.width()), (self.x() + self.length(), self.y() + self.width()))\n",
        "        return v\n",
        "\n",
        "    def check_xy(self, x, y):\n",
        "        if self.x() < x < self.x() + self.length():\n",
        "            if self.y() < y < self.y() + self.width():\n",
        "                return True\n",
        "        return False\n",
        "\n",
        "    def gen_points(self):\n",
        "        points = []\n",
        "        x = np.linspace(self.x(), self.x() + self.length(), 8)\n",
        "        for i in x:\n",
        "            t = (i, self.y())\n",
        "            points.append(t)\n",
        "\n",
        "        x = np.linspace(self.y(), self.y() + self.width(), 8)\n",
        "        for i in x:\n",
        "            t = (self.y() + self.length(), i)\n",
        "            points.append(t)\n",
        "\n",
        "        return points\n",
        "\n",
        "\n",
        "class Circle(Geo):\n",
        "\n",
        "    def area(self):\n",
        "        return pi * pow(self.radius(), 2)\n",
        "\n",
        "    def perimeter(self):\n",
        "        return 2 * pi * self.radius()\n",
        "\n",
        "    def check_xy(self, x, y):\n",
        "        d = sqrt((x - self.x()) * 2 + (y - self.y()) * 2)\n",
        "        if d < self.radius():\n",
        "            return True\n",
        "        return False\n",
        "\n",
        "    def gen_points(self):\n",
        "        xval = np.linspace(self.x() - self.radius(), self.x() + self.radius(), 10)\n",
        "        points = []\n",
        "        for i in xval:\n",
        "            c = sqrt(self.radius() * 2 - i * 2)\n",
        "            t1, t2 = (i, c), (i, -c)\n",
        "            if t1 != t2:\n",
        "                points.append(t1)\n",
        "                points.append(t2)\n",
        "        return points\n",
        "\n",
        "\n",
        "class Triangle(Geo):\n",
        "\n",
        "    def area(self):\n",
        "        return 0.5 * self.base() * self.height()\n",
        "\n",
        "    def perimeter(self):\n",
        "        return self.base() + 2 * sqrt(self.height() * 2 + (self.base() * 0.5) * 2)\n",
        "\n",
        "    def vertices(self):\n",
        "        v = ((self.x(), self.y()), (self.x() + self.base(), self.y()),\n",
        "             (self.x() + self.base() / 2, self.y() + self.height()))\n",
        "        return v\n",
        "\n",
        "    def check_xy(self, x, y):\n",
        "        for v in self.vertices():\n",
        "            if distance(x, y, v[0], v[1]) > sqrt((self.height()) * 2 + (self.base() / 2) * 2):\n",
        "                return False\n",
        "            return True\n",
        "\n",
        "\n",
        "def check(geo1, geo2):  \n",
        "    try:\n",
        "        v = geo2.vertices()\n",
        "        for i in v:\n",
        "            if geo1.check_xy(i[0], i[1]):\n",
        "                return True\n",
        "        return False\n",
        "    except AttributeError:\n",
        "        v = geo1.vertices()\n",
        "        for i in v:\n",
        "            if geo2.check_xy(i[0], i[1]):\n",
        "                return True\n",
        "        return False\n",
        "\n",
        "\n",
        "t = Triangle(0, 0, base=5, height=10)\n",
        "r = Rectangle(0, 0, length=10, width=5)\n",
        "c = Circle(0, 0, radius=5)\n",
        "print(check(r, c))\n",
        "print(check(t, r)) "
      ],
      "execution_count": 56,
      "outputs": [
        {
          "output_type": "stream",
          "text": [
            "True\n",
            "True\n"
          ],
          "name": "stdout"
        }
      ]
    }
  ]
}